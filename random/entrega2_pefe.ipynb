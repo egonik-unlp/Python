{
  "nbformat": 4,
  "nbformat_minor": 0,
  "metadata": {
    "colab": {
      "name": "entrega2_pefe.ipynb",
      "provenance": [],
      "authorship_tag": "ABX9TyO7TEHtmGAD3Wbt2PGdGvvk",
      "include_colab_link": true
    },
    "kernelspec": {
      "name": "python3",
      "display_name": "Python 3"
    }
  },
  "cells": [
    {
      "cell_type": "markdown",
      "metadata": {
        "id": "view-in-github",
        "colab_type": "text"
      },
      "source": [
        "<a href=\"https://colab.research.google.com/github/egonik-unlp/Python/blob/master/entrega2_pefe.ipynb\" target=\"_parent\"><img src=\"https://colab.research.google.com/assets/colab-badge.svg\" alt=\"Open In Colab\"/></a>"
      ]
    },
    {
      "cell_type": "code",
      "metadata": {
        "id": "PUVeZgFO6PSq"
      },
      "source": [
        "import numpy as np\n",
        "import scipy.stats as st\n",
        "from IPython.display import Markdown as md\n",
        "from IPython.display import display as d\n",
        "from IPython.display import Latex as lt\n",
        "import matplotlib.pyplot as plt\n",
        "import pandas as pd\n",
        "import seaborn as sns\n",
        "from math import *\n",
        "from sympy import *"
      ],
      "execution_count": 81,
      "outputs": []
    },
    {
      "cell_type": "markdown",
      "metadata": {
        "id": "F52lWGWfnsIw"
      },
      "source": [
        "#Segunda entrega de ejercicios PEFE\n",
        "\n",
        "#### *Eduardo Gonik*"
      ]
    },
    {
      "cell_type": "markdown",
      "metadata": {
        "id": "qw5WCunZnyNP"
      },
      "source": [
        "### Ejercicio 4.1\n",
        "\n",
        "\n",
        "Suponga que dos medidas $x_1$ y $x_2$ tienen incerteza aleatorias individuales $\\sigma_1$ y $\\sigma_2$ y tienen\n",
        "una incerteza sistemática común $S$. Esto se puede tratar considerando que $x_1$ esta compuesto\n",
        "de dos partes $x^r_1$ con incerteza aleatoria y $x^s_1$ con incerteza sistemática $S$, de manera similar\n",
        "para $x_2$. Con esta definición $x^r_1$ y $x^r_2$ son independiente entre ellos y con $x^s_1$ , $x^s_2$ , pero $x^s_1$ y $x^s_2$\n",
        "están completamente correlacionadas. Mostrar que la matriz de covarianza queda:\n",
        "\n",
        "$$V =\\begin{pmatrix}\n",
        "\\sigma^2_1 + S^2 & S^2 \\\\\n",
        "S^2 & \\sigma^2_1 + S^2 \n",
        "\\end{pmatrix}$$\n"
      ]
    },
    {
      "cell_type": "markdown",
      "metadata": {
        "id": "83kGljTqrFw4"
      },
      "source": [
        "Partimos del siguiente planteo de la matriz de covarianza:\n",
        "\n",
        "$$V =\\begin{pmatrix}\n",
        "cov (x_1,x_1) = V(x_1)& cov (x_2,x_1) \\\\\n",
        "cov (x_1,x_2)  & cov (x_2,x_2) = V(x_2) \n",
        "\\end{pmatrix}$$\n",
        "\n",
        "\n",
        "La diagonal principal de la matriz de covarianza estarán poblados por la varianza de cada medida consigo misma, que se calcula de la siguiente manera:\n",
        "\n",
        "$$ \n",
        "\\begin{align}V(x_1) &= E\\big[x^2_1\\big] - E \\big[x_1\\big]^2 \\\\\n",
        " &= E\\big[(x_1^R + x_1^S \\big)^2] - E\\big[(x_1^R + x_1^S \\big)]^2 \\\\\n",
        "  &= \\sigma_1^2 + S^2\n",
        " \\end{align} $$ \n",
        "\n",
        " y de forma análoga para $x_2$\n",
        "\n",
        " $$V(x_2) = \\sigma_2^2 + S^2 $$\n",
        "\n",
        "Las varianzas cruzadas:\n",
        "\n",
        "$$\n",
        "\\begin{align} cov(x_1,x_2) &=  E\\big[x_1x_2\\big] - E\\big[x_1\\big]E\\big[x_2\\big] \\\\\n",
        "&= E\\big[(x_1^R + x_1^S)(x_2^R + x_2^S)\\big] - E\\big[(x_1^R + x_1^S)\\big] E\\big[(x_2^R + x_2^S)\\big]\n",
        "\\end{align}\n",
        "$$\n",
        "\n",
        "Como las incertezas $x^R_1$ y $x^R_2$ no tienen correlación con ninguna otra, los productos que las involucran se cancelan, quedando:\n",
        "$$\\begin{align}\n",
        "cov(x_1,x_2) &= S^2 \\\\\n",
        "cov(x_2,x_1) &= S^2\n",
        "\\end{align}\n",
        "$$\n",
        "\n",
        "Resultando la matriz de covarianza finalmente:\n",
        "\n",
        "\n",
        "$$V =\\begin{pmatrix}\n",
        "\\sigma^2_1 + S^2 & S^2 \\\\\n",
        "S^2 & \\sigma^2_1 + S^2 \n",
        "\\end{pmatrix}$$\n",
        "\n",
        "---"
      ]
    },
    {
      "cell_type": "markdown",
      "metadata": {
        "id": "LcqDdZuNW_hz"
      },
      "source": [
        "### Ejercicio 4.3\n",
        "\n",
        "Encuentre los estimadores de máxima verosimilitud conjuntos para la esperanza y la varianza\n",
        "de una gaussiana y obtenga su matriz de covarianza asintótica a partir de las derivadas\n",
        "segundas del logaritmo de la verosimilitud.\n",
        "\n"
      ]
    },
    {
      "cell_type": "markdown",
      "metadata": {
        "id": "8Xqz0G7wXEHd"
      },
      "source": [
        "$$  f(x_i, \\mu, \\sigma) = \\frac{1}{\\sqrt{2\\pi\\sigma^{2}}} e^{\\Large - \\frac{1}{2} \\big( \\frac{x_i - \\mu}{\\sigma} \\big)^{2}}\n",
        " $$\n",
        "\n",
        "Planteamos la función de likelihood y luego aplicamos $\\ln$\n",
        "\n",
        "$$ \\mathcal{L}(\\underline{x}, \\mu, \\sigma) = \\prod_{i = 1}^{n} \\Bigg[\\frac{1}{\\sqrt{2\\pi\\sigma^{2}}} e^{\\Large - \\frac{1}{2} \\big( \\frac{x_i - \\mu}{\\sigma} \\big)^{2}}\\Bigg] $$\n",
        "\n",
        "$$ \n",
        "\\begin{align} \\ln{\\mathcal{L}(\\underline{x}, \\mu, \\sigma)} &= \\sum_{i = 1}^{n} \\Bigg[\\frac{1}{\\sqrt{2\\pi\\sigma^{2}}} e^{\\Large - \\frac{1}{2} \\big( \\frac{x_i - \\mu}{\\sigma} \\big)^{2}}\\Bigg]\\\\ \n",
        " &= \\sum^{n}_{i=1} -\\frac{1}{2} \\ln{\\sigma^{2}} -\\ln{\\sqrt{2 \\pi}} - \\frac{1}{2} \\bigg ( \\frac{x_i - \\mu}{\\sigma} \\bigg )^{2} \n",
        "\\end{align}\n",
        "$$\n",
        "\n",
        "Para poder hallar los estimadores $\\hat{\\mu}$ y $\\hat{\\sigma^2}$, ( $\\underline{\\hat\\theta}) $  , derivamos log-likelihood con respecto a dichos parámetros e igualamos a 0.\n",
        "\n",
        "$$\n",
        "\\frac{\\partial \\ln{\\mathcal{L}}}{\\partial \\mu} \\Bigg |_{\\underline{\\hat{\\theta}}} = \\sum_{i = 1}^n \\frac{x_i - \\hat{\\mu}}{\\sigma^2} = 0\n",
        "$$\n",
        "\n",
        "Quedando entonces el estimador de $\\mu$:\n",
        "$$\\hat{\\mu} = \\bar{x} $$\n",
        "\n",
        "y para $\\sigma^2$:\n",
        "\n",
        "$$\n",
        "\\begin{align}\n",
        "\\frac{\\partial \\ln{\\mathcal{L}}}{\\partial \\sigma^2} \\Bigg |_{\\underline{\\hat{\\theta}}} &= -\\frac{n}{2\\hat{\\sigma^2}} + \\frac{1}{2} \\sum_{i=1}^n \\frac{ (x_i- \\hat{\\mu})^2}{(\\hat{\\sigma^2})^2} = 0\\\\\n",
        " \\hat{\\sigma^2} &= \\sum_{i=1}^n \\frac{(x_i-\\hat{\\mu})^2}{n} \n",
        "\\end{align}\n",
        " $$\n",
        "\n",
        " La matriz de covarianza en este caso se pueded definir como:\n",
        " $$\n",
        " V_{ij}(\\hat{\\mu},\\hat{\\sigma^2})^{-1} = - \\mathcal{H} \n",
        " $$\n",
        "\n",
        " Entonces calculamos las segundas derivadas evaluadas en los estimadores :\n",
        "\n",
        "\n",
        "$$ - \\frac{\\partial^2{\\ln{\\mathcal{L}}}}{\\partial{\\mu}\\partial{\\sigma^2}} \\Bigg {|}_{\\underline{\\hat{\\theta}}} = \\frac{n}{2\\hat{\\sigma^4}} \\Bigg{(} \\sum_{i=1}^n  \\frac{x_i - \\hat{\\mu}}{n} \\Bigg{)}  = 0 $$\n",
        "\n",
        "Como ambas segundas derivadas existen y son continuas, aplicando el teorema de Clairaut: \n",
        "$$- \\frac{\\partial^2{\\ln{\\mathcal{L}}}}{\\partial{\\sigma^2}\\partial{\\mu}} \\Bigg {|}_{\\underline{\\hat{\\theta}}}   = 0$$\n",
        "\n",
        "Las derivadas dobles por los parámetros quedan:\n",
        "\n",
        "$$ - \\frac{\\partial^2{\\ln{\\mathcal{L}}}}{\\partial{\\mu^2}} \\Bigg {|}_{\\underline{\\hat{\\theta}}} = \\frac{n}{\\hat{\\sigma^2}}$$\n",
        "y\n",
        "\n",
        "\n",
        "$$ - \\frac{\\partial^2{\\ln{ \\mathcal{L}}}}{\\partial({\\sigma^2})^2} \\Bigg {|}_{\\underline{\\hat{\\theta}}} =  \\frac{n}{2\\hat{\\sigma^4}} $$\n",
        "\n",
        "Quedando entonces la matriz de covarianza:\n",
        "\n",
        "$$\n",
        "V_{ij}(\\hat{\\mu}, \\hat{\\sigma^2}) = \\begin{pmatrix}\n",
        "\\displaystyle\n",
        " \\frac{\\hat{\\sigma^2}}{n} & \n",
        " \\displaystyle0 \\\\\n",
        "\\displaystyle 0 & \\displaystyle \\frac{2\\hat{\\sigma^4}}{n}\n",
        "\\end{pmatrix} \n",
        "$$\n",
        "\n",
        "---"
      ]
    },
    {
      "cell_type": "markdown",
      "metadata": {
        "id": "PNc2_Is9Qyhh"
      },
      "source": [
        "\n",
        "### Ejercicio 5.1\n",
        "\n",
        "Una nueva partı́cula del tipo charm es vista en un detector de emulsión expuesto a un haz de\n",
        "neutrinos. Midiendo la energı́a de las partı́culas secundarias producidas por esta partı́cula, se\n",
        "determina que para este particular evento, la partı́cula encantada vivió 3x10−13 segundos en\n",
        "su sistema en reposo antes de decaer. ¿Cuáles son lo limites, a un nivel de confianza de 90 %\n",
        "(simétrico), para la vida media de esta partı́cula ?\n",
        "\n",
        "\n"
      ]
    },
    {
      "cell_type": "markdown",
      "metadata": {
        "id": "twulUp_KXDeo"
      },
      "source": [
        "Suponemos que el decaimiento de la partícula *charm* se puede modelizar con una distribución exponencial con $\\lambda = \\frac{1}{\\tau}$, siendo $\\tau = 3 x 10^{-13} s $. Usamos entonces la expresión :\n",
        "\n",
        "$$ f(t) = \\lambda e^{-\\lambda t} = \\frac{1}{\\tau} e^{\\Large\\frac{t}{\\tau}} $$\n",
        "\n",
        "Como buscamos definir intervalos de confianza simétrico con $\\gamma = 0.10$, entonces $\\alpha = \\beta = \\frac{\\gamma}{2} $.\n",
        "\n",
        "Teniendo en cuenta las definiciones de $\\alpha$ y $\\beta$:\n",
        "\n",
        "$$\n",
        "\\begin{align}\n",
        "\\alpha = \\int_{t}^{\\infty} \\lambda e^{-\\lambda t} dt &= 1 - e^{\\Large -\\frac{t}{\\tau}}  = 0.05 \\\\\n",
        "\\beta = \\int_{-\\infty}^{t} \\lambda e^{-\\lambda t} dt &= e^{\\Large -\\frac{t}{\\tau}}  = 0.05\n",
        "\\end{align}\n",
        "$$\n",
        "\n",
        "Despejando $\\tau$ de ambas ecuaciones el intervalo de confianza resulta:\n",
        "\n",
        "$$\n",
        "\\displaystyle{ \\bigg(\\frac{t}{\\ln{0.05}}, \\frac{t}{\\ln{0.95}} \\bigg)}\n",
        "$$\n",
        "\n",
        "Finalmente:\n",
        "$$\n",
        "\\bigg(1\\ \\textrm{x}\\ 10^{-13} s,\\ 5.85\\ \\textrm{x}\\ 10^{-13} s \\bigg)\n",
        "$$\n",
        "\n",
        "---"
      ]
    },
    {
      "cell_type": "markdown",
      "metadata": {
        "id": "0EdJMIejwMM-"
      },
      "source": [
        "### Ejercicio 5.3\n",
        "\n",
        " El bosón W es una partı́cula elemental intermediaria de la fuerza débil descubierta en 1983.\n",
        "Su masa ha sido medida por diversos experimentos, con distintos niveles de precisión. Los\n",
        "datos de la edición 2000 del Review of Particle Physics son, en GeV:\n"
      ]
    },
    {
      "cell_type": "code",
      "metadata": {
        "id": "v2T_jrbc6N7N",
        "colab": {
          "base_uri": "https://localhost:8080/",
          "height": 143
        },
        "outputId": "19e29f5b-f88f-4f4a-f571-0ef61f842245"
      },
      "source": [
        "medidas = {'DO':(80.482, 0.091), 'Aleph':(80.423,0.112), 'Opal':(80.38,0.12), 'L3':(80.61, 0.15), 'CDF': (80.41, 0.18)}\n",
        "valor = 80.458\n",
        "datos = pd.DataFrame(medidas, index = ['$\\mu$ ', '$\\sigma$']).T\n",
        "datos.index.name = 'Experimento'\n",
        "d(md(datos.to_markdown()))"
      ],
      "execution_count": 82,
      "outputs": [
        {
          "output_type": "display_data",
          "data": {
            "text/markdown": "| Experimento   |   $\\mu$  |   $\\sigma$ |\n|:--------------|---------:|-----------:|\n| DO            |   80.482 |      0.091 |\n| Aleph         |   80.423 |      0.112 |\n| Opal          |   80.38  |      0.12  |\n| L3            |   80.61  |      0.15  |\n| CDF           |   80.41  |      0.18  |",
            "text/plain": [
              "<IPython.core.display.Markdown object>"
            ]
          },
          "metadata": {
            "tags": []
          }
        }
      ]
    },
    {
      "cell_type": "markdown",
      "metadata": {
        "id": "fqJ7Fdui6tej"
      },
      "source": [
        "Muestre que el resultado combinado es 80.458 y analice la consistencia de los resultados con un\n",
        "test. Para esto asuma que las mediciones con incertezas gaussianos y construya el estadı́stico:\n",
        "\n",
        "$$S = \\sum_i \\bigg[ \\frac{y_i - f(x_i)}{\\sigma_i}\\bigg]^2$$\n",
        "\n",
        "cuya distribución es $\\chi^2$ y calcule p-valor del resultado.\n"
      ]
    },
    {
      "cell_type": "markdown",
      "metadata": {
        "id": "HIiwR7Lqd1q1"
      },
      "source": [
        "Si se desea estimar el valor de una cantidad física $x$ a partir de múltiples experimentos independientes $x_1, x_2, ... , x_n$ con errores $\\delta_1,\\delta_2, ... , \\delta_n $ se puede emplear la media ponderada de dichas medidas como herramienta para reconciliar los datos.\n",
        "\n",
        "Ésta se define de la siguiente manera:\n",
        "\n",
        "$$\\displaystyle x=  \\frac{\\sum_{i=1}^N \\frac{x_i}{\\delta_i^2}}{\\sum_{i=1}^{N}\\frac{1}{\\delta_i^2}} $$\n",
        "\n",
        "Para este fin, primero calculamos $\\delta_i^2$ para nuestros datos\n"
      ]
    },
    {
      "cell_type": "code",
      "metadata": {
        "colab": {
          "base_uri": "https://localhost:8080/",
          "height": 143
        },
        "id": "86QEiKOeiAZw",
        "outputId": "cae39418-dd7c-4298-d171-ae63a30ba56d"
      },
      "source": [
        "datos[\"$\\delta^2$\"] = datos[\"$\\sigma$\"].map(lambda x:x**2)\n",
        "d(md(datos.to_markdown()))"
      ],
      "execution_count": 83,
      "outputs": [
        {
          "output_type": "display_data",
          "data": {
            "text/markdown": "| Experimento   |   $\\mu$  |   $\\sigma$ |   $\\delta^2$ |\n|:--------------|---------:|-----------:|-------------:|\n| DO            |   80.482 |      0.091 |     0.008281 |\n| Aleph         |   80.423 |      0.112 |     0.012544 |\n| Opal          |   80.38  |      0.12  |     0.0144   |\n| L3            |   80.61  |      0.15  |     0.0225   |\n| CDF           |   80.41  |      0.18  |     0.0324   |",
            "text/plain": [
              "<IPython.core.display.Markdown object>"
            ]
          },
          "metadata": {
            "tags": []
          }
        }
      ]
    },
    {
      "cell_type": "markdown",
      "metadata": {
        "id": "pMa23XZckR6D"
      },
      "source": [
        "Luego realizamos el cálculo:"
      ]
    },
    {
      "cell_type": "code",
      "metadata": {
        "colab": {
          "base_uri": "https://localhost:8080/",
          "height": 46
        },
        "id": "ddE_cYGwkM8Q",
        "outputId": "b0051724-f55a-4d2c-cccc-f4a8b4c8e723"
      },
      "source": [
        "num = sum([mu/delta for mu, delta in zip(datos['$\\mu$ '], datos['$\\delta^2$'])])\n",
        "den = sum([1/i for i in datos['$\\delta^2$']])\n",
        "d(md(f\"El valor de la suma ponderada para estos datos experimentales es {num/den:0.3f}\"))"
      ],
      "execution_count": 84,
      "outputs": [
        {
          "output_type": "display_data",
          "data": {
            "text/markdown": "El valor de la suma ponderada para estos datos experimentales es 80.458",
            "text/plain": [
              "<IPython.core.display.Markdown object>"
            ]
          },
          "metadata": {
            "tags": []
          }
        }
      ]
    },
    {
      "cell_type": "markdown",
      "metadata": {
        "id": "Hud43bqz8TnQ"
      },
      "source": [
        "Luego calculamos el valor del estadístico de prueba:"
      ]
    },
    {
      "cell_type": "code",
      "metadata": {
        "id": "-h49Ll_b8i8y"
      },
      "source": [
        "lista = [np.power((i[0] - valor )/i[1], 2) for i in medidas.values()] #Invertir\n",
        "chi_observado = sum(lista)"
      ],
      "execution_count": 85,
      "outputs": []
    },
    {
      "cell_type": "markdown",
      "metadata": {
        "id": "SbMPheW78ou2"
      },
      "source": [
        "Debido a que tenemos 5 medidas y buscamos determinar un parámetro con $k=4$ grados de libertad"
      ]
    },
    {
      "cell_type": "code",
      "metadata": {
        "id": "iUUL-X-b88oT"
      },
      "source": [
        "chi2 = st.chi2(df = 4)"
      ],
      "execution_count": 86,
      "outputs": []
    },
    {
      "cell_type": "markdown",
      "metadata": {
        "id": "vkz55IgU9Xlb"
      },
      "source": [
        "Luego evaluamos en el valor obtenido para $\\chi_{obs}$ y determinamos el p-valor."
      ]
    },
    {
      "cell_type": "code",
      "metadata": {
        "id": "YHX61jpa9hvR",
        "colab": {
          "base_uri": "https://localhost:8080/",
          "height": 50
        },
        "outputId": "521a856e-9d50-4f25-fc67-b733c023add5"
      },
      "source": [
        "p_val = 1 - chi2.cdf(chi_observado)\n",
        "d(md(f'El p-valor es {p_val:0.2f}, para un valor de 'r'$\\chi_{obs}$='f' {chi_observado:0.2f}.'))"
      ],
      "execution_count": 87,
      "outputs": [
        {
          "output_type": "display_data",
          "data": {
            "text/markdown": "El p-valor es 0.79, para un valor de $\\chi_{obs}$= 1.69.",
            "text/plain": [
              "<IPython.core.display.Markdown object>"
            ]
          },
          "metadata": {
            "tags": []
          }
        }
      ]
    },
    {
      "cell_type": "code",
      "metadata": {
        "id": "EvcCq2y7-MM_",
        "colab": {
          "base_uri": "https://localhost:8080/",
          "height": 441
        },
        "outputId": "d0d6b82f-641c-4c1f-a240-7fdc1f1ff35f"
      },
      "source": [
        "x = np.linspace(0,15,100)\n",
        "plt.figure(figsize= (6,5), dpi = 100)\n",
        "sns.set_style('darkgrid', {\"grid.color\": \"grey\"})\n",
        "sns.lineplot(x = x, y = chi2.pdf(x), label = r'$X \\sim \\chi^2_{k = 4}$')\n",
        "plt.fill_between(x[x >= chi_observado],chi2.pdf(x[x >= chi_observado]) ,color= 'red', alpha = 0.20, label = 'p-valor')\n",
        "plt.yticks([])\n",
        "plt.xticks([chi_observado],[r'$\\chi_{obs} =$'f'{chi_observado:0.2f}'])\n",
        "\n",
        "plt.legend()\n",
        "plt.show()"
      ],
      "execution_count": 114,
      "outputs": [
        {
          "output_type": "display_data",
          "data": {
            "image/png": "[encoded data removed]",
            "text/plain": [
              "<Figure size 600x500 with 1 Axes>"
            ]
          },
          "metadata": {
            "tags": []
          }
        }
      ]
    }
  ]
}